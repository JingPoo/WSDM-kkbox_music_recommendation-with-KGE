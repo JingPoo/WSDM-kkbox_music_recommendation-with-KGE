{
 "cells": [
  {
   "cell_type": "code",
   "execution_count": 1,
   "metadata": {},
   "outputs": [
    {
     "name": "stderr",
     "output_type": "stream",
     "text": [
      "/home/ubuntu/knowledge-graph-embedding/venv/lib/python3.6/importlib/_bootstrap.py:219: RuntimeWarning: numpy.ufunc size changed, may indicate binary incompatibility. Expected 192 from C header, got 216 from PyObject\n",
      "  return f(*args, **kwds)\n"
     ]
    }
   ],
   "source": [
    "import json\n",
    "import pandas as pd"
   ]
  },
  {
   "cell_type": "markdown",
   "metadata": {},
   "source": [
    "\tShow the summary\t\n",
    "\t\t- KG\n",
    "\t\t    - number of hrt triplets\n",
    "\t\t    - number of entities\n",
    "\t\t    - number of entity type(in dict)\n",
    "\t\t    - number of entities group by type(in dict)\n",
    "\t\t    - number of relation \n",
    "\t\t\n",
    "\t\t- For train, validation, test各自的\n",
    "\t\t    - number of hrt triplets\n",
    "\t\t    - number of has_interest hrt triplet\n",
    "\t\t    - number of distinct user\n",
    "    \t\t- number of distinct item"
   ]
  },
  {
   "cell_type": "code",
   "execution_count": 2,
   "metadata": {},
   "outputs": [],
   "source": [
    "def show_kg_summary():\n",
    "  \n",
    "    kg = pd.read_csv('./data/KKBOX/kgdata_all.csv')\n",
    "    \n",
    "    with open('./data/KKBOX/type_dict.json') as f:\n",
    "        type_dict = json.load(f)\n",
    "    \n",
    "    \n",
    "    print('Summary of KG\\n'\n",
    "          '-------------')\n",
    "\n",
    "    # - number of hrt triplets\n",
    "    print('number of hrt triplets: ', kg.shape[0])\n",
    "\n",
    "    # - number of entities\n",
    "    # make a dataframe append h & t -> calculate N_entities\n",
    "    ht_df = kg['h'].append(kg['t'],ignore_index=True)\n",
    "    print('number of entities: ', ht_df.nunique())\n",
    "\n",
    "    # - number of entity type(in dict)\n",
    "    print('number of entity type: ', len(list(set(type_dict.values()))))\n",
    "\n",
    "    # - number of entities group by type(in dict)\n",
    "    entity_groupby_type = {type:[entity for entity in type_dict.keys() if type_dict[entity] == type] for type in set(type_dict.values())}\n",
    "    N_entity_groupby_type = {type:len(entity_groupby_type[type]) for type in entity_groupby_type.keys()}\n",
    "    print('number of entities group by type: ', N_entity_groupby_type)\n",
    "\n",
    "    # - number of relations\n",
    "    print('number of relations: ', kg['r'].nunique())"
   ]
  },
  {
   "cell_type": "code",
   "execution_count": 3,
   "metadata": {},
   "outputs": [],
   "source": [
    "def show_data_summary():\n",
    "      \n",
    "      train_df = pd.read_csv('./data/KKBOX/train_data.csv')\n",
    "      valid_df = pd.read_csv('./data/KKBOX/valid_data.csv')\n",
    "      test_df = pd.read_csv('./data/KKBOX/test_data.csv')\n",
    "      \n",
    "      with open('./data/KKBOX/type_dict.json') as f:\n",
    "            type_dict = json.load(f)\n",
    "      \n",
    "      \n",
    "      print('Summary of train, validation, test data\\n'\n",
    "            '---------------------------------------')\n",
    "\n",
    "      # - number of hrt triplets\n",
    "      N_hrt_triple = {'train':len(train_df), 'validation':len(valid_df), 'test':len(test_df)}\n",
    "      print('number of hrt triplets: ', N_hrt_triple) \n",
    "      \n",
    "      # - number of has_interest hrt triplet\n",
    "      N_interest_hrt_triple = {'train':train_df[train_df['r'] == 'has_interest'].shape[0],\\\n",
    "                              'validation':valid_df[valid_df['r'] == 'has_interest'].shape[0],\\\n",
    "                              'test':test_df[test_df['r'] == 'has_interest'].shape[0]}\n",
    "      print('number of has_interest hrt triplets: ', N_interest_hrt_triple) \n",
    "      \n",
    "\n",
    "      ht_train_df = train_df['h'].append(train_df['t'],ignore_index=True)\n",
    "      type_ht_train_df = [type_dict.get(ent) for ent in ht_train_df.unique()]\n",
    "      ht_valid_df = valid_df['h'].append(valid_df['t'],ignore_index=True)\n",
    "      type_ht_valid_df = [type_dict.get(ent) for ent in ht_valid_df.unique()]\n",
    "      ht_test_df = test_df['h'].append(test_df['t'],ignore_index=True)\n",
    "      type_ht_test_df = [type_dict.get(ent) for ent in ht_test_df.unique()]\n",
    "      \n",
    "      # - number of distinct user\n",
    "      N_user = {'train':type_ht_train_df.count('member'), 'validation':type_ht_valid_df.count('member'),\\\n",
    "                'test':type_ht_test_df.count('member')}\n",
    "      print('number of distinct user: ', N_user)\n",
    "\n",
    "      # - number of distinct item\n",
    "      N_item = {'train':type_ht_train_df.count('song'), 'validation':type_ht_valid_df.count('song'),\\\n",
    "                'test':type_ht_test_df.count('song')}\n",
    "      print('number of distinct item: ', N_item)"
   ]
  },
  {
   "cell_type": "code",
   "execution_count": 4,
   "metadata": {},
   "outputs": [
    {
     "name": "stdout",
     "output_type": "stream",
     "text": [
      "Summary of KG\n",
      "-------------\n",
      "number of hrt triplets:  13218159\n",
      "number of entities:  2553904\n",
      "number of entity type:  10\n",
      "number of entities group by type:  {'song_genre': 192, 'song_language': 20, 'song': 2296835, 'member_city': 21, 'member_duration_in_year': 15, 'member_gender': 2, 'member_age': 5, 'song_artist': 222409, 'song_length': 2, 'member': 34403}\n",
      "number of relations:  9\n",
      "\n",
      "Summary of train, validation, test data\n",
      "---------------------------------------\n",
      "number of hrt triplets:  {'train': 11719734, 'validation': 259879, 'test': 1238546}\n",
      "number of has_interest hrt triplets:  {'train': 2216231, 'validation': 259879, 'test': 1238546}\n",
      "number of distinct user:  {'train': 34403, 'validation': 25724, 'test': 27113}\n",
      "number of distinct item:  {'train': 2296835, 'validation': 52694, 'test': 127885}\n"
     ]
    }
   ],
   "source": [
    "show_kg_summary()\n",
    "print()\n",
    "show_data_summary()"
   ]
  }
 ],
 "metadata": {
  "interpreter": {
   "hash": "31f2aee4e71d21fbe5cf8b01ff0e069b9275f58929596ceb00d14d90e3e16cd6"
  },
  "kernelspec": {
   "display_name": "Python 3.6.9 64-bit",
   "language": "python",
   "name": "python3"
  },
  "language_info": {
   "codemirror_mode": {
    "name": "ipython",
    "version": 3
   },
   "file_extension": ".py",
   "mimetype": "text/x-python",
   "name": "python",
   "nbconvert_exporter": "python",
   "pygments_lexer": "ipython3",
   "version": "3.6.9"
  },
  "orig_nbformat": 4
 },
 "nbformat": 4,
 "nbformat_minor": 2
}
