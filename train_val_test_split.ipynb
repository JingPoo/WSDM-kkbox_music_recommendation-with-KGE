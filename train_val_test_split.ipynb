{
 "cells": [
  {
   "cell_type": "code",
   "execution_count": 1,
   "metadata": {},
   "outputs": [],
   "source": [
    "import json\n",
    "import numpy as np\n",
    "import pandas as pd\n",
    "import tensorflow as tf\n",
    "from KGE.data_utils import index_kg, convert_kg_to_index\n",
    "from KGE.models.translating_based.TransE import TransE\n",
    "from sklearn.model_selection import train_test_split"
   ]
  },
  {
   "cell_type": "code",
   "execution_count": 4,
   "metadata": {},
   "outputs": [
    {
     "data": {
      "text/plain": [
       "array([['uid_FGtllVqz18RPiwJj/edr2gV78zirAiY/9SmYvia+kCg=',\n",
       "        'has_interest',\n",
       "        'sid_BBzumQNXUHKdEBOB7mAJuzok+IJA1c2Ryg/yzTF6tik='],\n",
       "       ['uid_Xumu+NIjS6QYVxDS4/t3SawvJ7viT9hPKXmf0RtLNx8=',\n",
       "        'has_interest',\n",
       "        'sid_bhp/MpSNoqoxOIB+/l8WPqu6jldth4DIpCm3ayXnJqM='],\n",
       "       ['uid_Xumu+NIjS6QYVxDS4/t3SawvJ7viT9hPKXmf0RtLNx8=',\n",
       "        'has_interest',\n",
       "        'sid_JNWfrrC7zNN7BdMpsISKa4Mw+xVJYNnxXh3/Epw7QgY='],\n",
       "       ['uid_Xumu+NIjS6QYVxDS4/t3SawvJ7viT9hPKXmf0RtLNx8=',\n",
       "        'has_interest',\n",
       "        'sid_2A87tzfnJTSWqD7gIZHisolhe4DMdzkbd6LzO1KHjNs='],\n",
       "       ['uid_FGtllVqz18RPiwJj/edr2gV78zirAiY/9SmYvia+kCg=',\n",
       "        'has_interest',\n",
       "        'sid_3qm6XTZ6MOCU11x8FIVbAGH5l5uMkT3/ZalWG1oo2Gc='],\n",
       "       ['uid_FGtllVqz18RPiwJj/edr2gV78zirAiY/9SmYvia+kCg=',\n",
       "        'has_interest',\n",
       "        'sid_3Hg5kugV1S0wzEVLAEfqjIV5UHzb7bCrdBRQlGygLvU='],\n",
       "       ['uid_Xumu+NIjS6QYVxDS4/t3SawvJ7viT9hPKXmf0RtLNx8=',\n",
       "        'has_interest',\n",
       "        'sid_VkILU0H1h3NMmk9MQrXouNudGk5n8Ls5cqRRuBxeTh4='],\n",
       "       ['uid_FGtllVqz18RPiwJj/edr2gV78zirAiY/9SmYvia+kCg=',\n",
       "        'has_interest',\n",
       "        'sid_bPIvRTzfHxH5LgHrStll+tYwSQNVV8PySgA3M1PfTgc='],\n",
       "       ['uid_uHqAtShXTRXju5GE8ri3ITsVFepPf8jUoCF7ffNOuqE=',\n",
       "        'has_interest',\n",
       "        'sid_/bU6IRSK+YNlNbaTkxo7bhsb2EDLPrnksdX3ggcZNhI='],\n",
       "       ['uid_uHqAtShXTRXju5GE8ri3ITsVFepPf8jUoCF7ffNOuqE=',\n",
       "        'has_interest',\n",
       "        'sid_EbI7xoNxI+3QSsiHxL13zBdgHIJOwa3srHd7cDcnJ0g=']], dtype=object)"
      ]
     },
     "execution_count": 4,
     "metadata": {},
     "output_type": "execute_result"
    }
   ],
   "source": [
    "# load data\n",
    "interest_data = pd.read_csv('./data/KKBOX/kgdata_interest.csv').to_numpy()\n",
    "interest_data[:10]"
   ]
  },
  {
   "cell_type": "code",
   "execution_count": 2,
   "metadata": {},
   "outputs": [],
   "source": [
    "def kg_train_val_test_split(data, test_size, val_size):\n",
    "    '''\n",
    "        Parameters\n",
    "        ----------\n",
    "            data: the data to be split\n",
    "            test_size: if float, represent the proportion of the dataset to include in the test split\n",
    "                    if int, represents the absolute number of test samples\n",
    "            val_size: same as test_size, but is the proportion of the train data\n",
    "\n",
    "        Returns\n",
    "        -------\n",
    "            train, valid, test\n",
    "    '''\n",
    "   \n",
    "    # sort by first column\n",
    "    sorted_data = data[np.argsort(data[:,0])]\n",
    "\n",
    "    # get unique user index and count\n",
    "    unique_head, index, count = np.unique(sorted_data[:,0], return_index=True, return_counts=True)\n",
    "\n",
    "    # train test split\n",
    "    train_origin = [] \n",
    "    test = []\n",
    "    \n",
    "    for i in range(len(index)):\n",
    "        if count[i]>1:\n",
    "            tr, te = train_test_split(sorted_data[index[i]:index[i] + count[i], :], test_size=test_size, random_state=i)\n",
    "            train_origin.append(tr)\n",
    "            test.append(te)\n",
    "        else: #只有一筆\n",
    "            test.append(sorted_data[index[i],:])\n",
    "            \n",
    "    # train val split\n",
    "    valid = []\n",
    "    train = []\n",
    "\n",
    "    for j in range(len(train_origin)):\n",
    "        if len(train_origin[j])>1:\n",
    "            tr, va = train_test_split(train_origin[j], test_size=val_size, random_state=j)\n",
    "            train.append(tr)\n",
    "            valid.append(va)\n",
    "        else: #只有一筆\n",
    "            valid.append(train_origin[j])\n",
    "    \n",
    "    \n",
    "    return np.vstack(train), np.vstack(valid), np.vstack(test)"
   ]
  },
  {
   "cell_type": "code",
   "execution_count": null,
   "metadata": {},
   "outputs": [],
   "source": [
    "train, valid, test = kg_train_val_test_split(interest_data, 0.33, 0.1)"
   ]
  },
  {
   "cell_type": "code",
   "execution_count": 6,
   "metadata": {},
   "outputs": [
    {
     "data": {
      "text/plain": [
       "array([['sid_CXoTN1eb7AI+DntdU1vbcwGRV4SCIDxZu+YD8JP8r4E=', 'length',\n",
       "        '>=3min'],\n",
       "       ['sid_o0kFgae9QtnYgRkVPqLJwa05zIhRlUjfF7O1tDw0ZDU=', 'length',\n",
       "        '>=3min'],\n",
       "       ['sid_DwVvVurfpuz+XPuFvucclVQEyPqcpUkHR0ne1RQzPs0=', 'length',\n",
       "        '>=3min'],\n",
       "       ['sid_dKMBWoZyScdxSkihKG+Vf47nc18N9q4m58+b4e7dSSE=', 'length',\n",
       "        '>=3min'],\n",
       "       ['sid_W3bqWd3T+VeHFzHAUfARgW9AvVRaF4N5Yzm4Mr6Eo/o=', 'length',\n",
       "        '<3min'],\n",
       "       ['sid_kKJ2JNU5h8rphyW21ovC+RZU+yEHPM+3w85J37p7vEQ=', 'length',\n",
       "        '>=3min'],\n",
       "       ['sid_N9vbanw7BSMoUgdfJlgX1aZPE1XZg8OS1wf88AQEcMc=', 'length',\n",
       "        '>=3min'],\n",
       "       ['sid_GsCpr618xfveHYJdo+E5SybrpR906tsjLMeKyrCNw8s=', 'length',\n",
       "        '>=3min'],\n",
       "       ['sid_oTi7oINPX+rxoGp+3O6llSltQTl80jDqHoULfRoLcG4=', 'length',\n",
       "        '>=3min'],\n",
       "       ['sid_btcG03OHY3GNKWccPP0auvtSbhxog/kllIIOx5grE/k=', 'length',\n",
       "        '>=3min']], dtype=object)"
      ]
     },
     "execution_count": 6,
     "metadata": {},
     "output_type": "execute_result"
    }
   ],
   "source": [
    "# read other data\n",
    "other_data = pd.read_csv('./data/KKBOX/kgdata_other.csv').to_numpy()\n",
    "other_data[:10]"
   ]
  },
  {
   "cell_type": "code",
   "execution_count": 7,
   "metadata": {},
   "outputs": [],
   "source": [
    "# concate kgdata_interest & kgdata_other as train\n",
    "train = np.concatenate((train, other_data))"
   ]
  },
  {
   "cell_type": "code",
   "execution_count": 8,
   "metadata": {},
   "outputs": [],
   "source": [
    "# output data before index\n",
    "pd.DataFrame(train,columns=['h','r','t']).to_csv('./data/KKBOX/train_data.csv', index=False)\n",
    "pd.DataFrame(valid,columns=['h','r','t']).to_csv('./data/KKBOX/valid_data.csv', index=False)\n",
    "pd.DataFrame(test,columns=['h','r','t']).to_csv('./data/KKBOX/test_data.csv', index=False)"
   ]
  },
  {
   "cell_type": "code",
   "execution_count": 9,
   "metadata": {},
   "outputs": [],
   "source": [
    "# index the kg data\n",
    "metadata = index_kg(train)"
   ]
  },
  {
   "cell_type": "code",
   "execution_count": 10,
   "metadata": {},
   "outputs": [],
   "source": [
    "# output metadata json\n",
    "\n",
    "with open('./data/KKBOX/metadata.json', 'w') as f:\n",
    "    json.dump(metadata, f)"
   ]
  },
  {
   "cell_type": "code",
   "execution_count": 11,
   "metadata": {},
   "outputs": [],
   "source": [
    "# conver kg into index\n",
    "train = convert_kg_to_index(train, metadata[\"ent2ind\"], metadata[\"rel2ind\"])\n",
    "valid = convert_kg_to_index(valid, metadata[\"ent2ind\"], metadata[\"rel2ind\"])\n",
    "test = convert_kg_to_index(test, metadata[\"ent2ind\"], metadata[\"rel2ind\"])"
   ]
  },
  {
   "cell_type": "code",
   "execution_count": 12,
   "metadata": {},
   "outputs": [
    {
     "data": {
      "text/plain": [
       "array([[2505856,       5, 1931828],\n",
       "       [2505856,       5, 1537330],\n",
       "       [2505856,       5, 1603992],\n",
       "       [2505856,       5, 2286732],\n",
       "       [2505856,       5,  760905],\n",
       "       [2505856,       5, 1072362],\n",
       "       [2505856,       5, 1596949],\n",
       "       [2505856,       5,  395076],\n",
       "       [2505856,       5, 1939255],\n",
       "       [2505856,       5, 1722423]])"
      ]
     },
     "execution_count": 12,
     "metadata": {},
     "output_type": "execute_result"
    }
   ],
   "source": [
    "train[:10]"
   ]
  },
  {
   "cell_type": "code",
   "execution_count": 20,
   "metadata": {},
   "outputs": [],
   "source": [
    "# output data after index\n",
    "pd.DataFrame(train,columns=['h','r','t']).to_csv('./data/KKBOX/train_index_data.csv', index=False)\n",
    "pd.DataFrame(valid,columns=['h','r','t']).to_csv('./data/KKBOX/valid_index_data.csv', index=False)\n",
    "pd.DataFrame(test,columns=['h','r','t']).to_csv('./data/KKBOX/test_index_data.csv', index=False)"
   ]
  }
 ],
 "metadata": {
  "interpreter": {
   "hash": "31f2aee4e71d21fbe5cf8b01ff0e069b9275f58929596ceb00d14d90e3e16cd6"
  },
  "kernelspec": {
   "display_name": "Python 3.6.9 64-bit",
   "language": "python",
   "name": "python3"
  },
  "language_info": {
   "codemirror_mode": {
    "name": "ipython",
    "version": 3
   },
   "file_extension": ".py",
   "mimetype": "text/x-python",
   "name": "python",
   "nbconvert_exporter": "python",
   "pygments_lexer": "ipython3",
   "version": "3.6.9"
  },
  "orig_nbformat": 4
 },
 "nbformat": 4,
 "nbformat_minor": 2
}
